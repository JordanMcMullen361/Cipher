{
 "cells": [
  {
   "cell_type": "markdown",
   "id": "fb690fb2",
   "metadata": {},
   "source": [
    "# Caesar Cipher "
   ]
  },
  {
   "cell_type": "markdown",
   "id": "3b8f8516",
   "metadata": {},
   "source": [
    "In this small project I have made a ceasar cipher. This first encoder takes a phrase then is given a number key. The key represent where along the alphabet the letters of the phrase will move. \n",
    "\n",
    "The decoder is the reverse where it takes a encoded phrase and using the key returns the orginal phrase."
   ]
  },
  {
   "cell_type": "code",
   "execution_count": 23,
   "id": "b8adf7fa",
   "metadata": {},
   "outputs": [
    {
     "name": "stdout",
     "output_type": "stream",
     "text": [
      "What is your text? hello my name is jordan\n",
      "What is your shift? 5\n"
     ]
    },
    {
     "data": {
      "text/plain": [
       "'mjqqt rd sfrj nx otwifs'"
      ]
     },
     "execution_count": 23,
     "metadata": {},
     "output_type": "execute_result"
    }
   ],
   "source": [
    "text = input(\"What is your text? \" )\n",
    "shift = int(input(\"What is your shift? \"))\n",
    "\n",
    "\n",
    "def encode(text, shift):\n",
    "    cipher_text = ''\n",
    "    for i in text:\n",
    "        if i.isalpha():\n",
    "            stayinalpha = ord(i) + shift\n",
    "            if stayinalpha > ord('z'):\n",
    "                stayinalpha -= 26\n",
    "            final_letter = chr(stayinalpha)\n",
    "            cipher_text += final_letter\n",
    "        else:\n",
    "            cipher_text += i\n",
    "    return cipher_text    \n",
    "\n",
    "encode(text, shift)\n",
    "            "
   ]
  },
  {
   "cell_type": "code",
   "execution_count": 24,
   "id": "132e8fd3",
   "metadata": {},
   "outputs": [
    {
     "name": "stdout",
     "output_type": "stream",
     "text": [
      "What is your text? mjqqt rd sfrj nx otwifs\n",
      "What is your shift? 5\n"
     ]
    },
    {
     "data": {
      "text/plain": [
       "'hello m_ name is jordan'"
      ]
     },
     "execution_count": 24,
     "metadata": {},
     "output_type": "execute_result"
    }
   ],
   "source": [
    "text = input(\"What is your text? \" )\n",
    "shift = int(input(\"What is your shift? \"))\n",
    "\n",
    "\n",
    "def dencode(text, shift):\n",
    "    cipher_text = ''\n",
    "    for i in text:\n",
    "        if i.isalpha():\n",
    "            stayinalpha = ord(i) - shift\n",
    "            if stayinalpha > ord('z'):\n",
    "                stayinalpha += 26\n",
    "            final_letter = chr(stayinalpha)\n",
    "            cipher_text += final_letter\n",
    "        else:\n",
    "            cipher_text += i\n",
    "    return cipher_text    \n",
    "\n",
    "dencode(text, shift)"
   ]
  },
  {
   "cell_type": "markdown",
   "id": "774fb4df",
   "metadata": {},
   "source": [
    "This crack goes takes the encoded phrase and passes it through each key up to 26."
   ]
  },
  {
   "cell_type": "code",
   "execution_count": 25,
   "id": "c847fb05",
   "metadata": {},
   "outputs": [
    {
     "name": "stdout",
     "output_type": "stream",
     "text": [
      "What is your text? mjqqt rd sfrj nx otwifs\n",
      "mjqqtrdsfrjnxotwifs\n",
      "nkrrusetgskoypuxjgt\n",
      "olssvtfuhtlpzqvykhu\n",
      "pmttwugviumqarwzliv\n",
      "qnuuxvhwjvnrbsxamjw\n",
      "rovvywixkwosctybnkx\n",
      "spwwzxjylxptduzcoly\n",
      "tqxxaykzmyquevadpmz\n",
      "uryybzlanzrvfwbeqna\n",
      "vszzcamboaswgxcfrob\n",
      "wtaadbncpbtxhydgspc\n",
      "xubbecodqcuyizehtqd\n",
      "yvccfdperdvzjafiure\n",
      "zwddgeqfsewakbgjvsf\n",
      "axeehfrgtfxblchkwtg\n",
      "byffigshugycmdilxuh\n",
      "czggjhtivhzdnejmyvi\n",
      "dahhkiujwiaeofknzwj\n",
      "ebiiljvkxjbfpgloaxk\n",
      "fcjjmkwlykcgqhmpbyl\n",
      "gdkknlxmzldhrinqczm\n",
      "hellomynameisjordan\n",
      "ifmmpnzobnfjtkpsebo\n",
      "jgnnqoapcogkulqtfcp\n",
      "khoorpbqdphlvmrugdq\n",
      "lippsqcreqimwnsvher\n",
      "mjqqtrdsfrjnxotwifs\n",
      "\n"
     ]
    }
   ],
   "source": [
    "def crack():\n",
    "    text = input(\"What is your text? \" )\n",
    "    cipher_text = ''\n",
    "    shift = 0\n",
    "    loop = 0\n",
    "    while loop <= 26:\n",
    "        for i in text:\n",
    "            if i.isalpha():\n",
    "                stayinalpha = ord(i) + shift\n",
    "                if stayinalpha > ord('z'):\n",
    "                    stayinalpha -= 26\n",
    "                final_letter = chr(stayinalpha)\n",
    "                cipher_text += final_letter\n",
    "        if loop <= 27:\n",
    "            loop +=1\n",
    "            shift += 1 \n",
    "            cipher_text += '\\n'\n",
    "    return cipher_text \n",
    "    \n",
    "        \n",
    "        \n",
    "print(crack())"
   ]
  },
  {
   "cell_type": "code",
   "execution_count": 26,
   "id": "61968d66",
   "metadata": {},
   "outputs": [
    {
     "name": "stdout",
     "output_type": "stream",
     "text": [
      "Offset: 1\n",
      "\t nkrru se tgsk oy puxjgt\n",
      "Offset: 2\n",
      "\t olssv tf uhtl pz qvykhu\n",
      "Offset: 3\n",
      "\t pmttw ug vium qa rwzliv\n",
      "Offset: 4\n",
      "\t qnuux vh wjvn rb sxamjw\n",
      "Offset: 5\n",
      "\t rovvy wi xkwo sc tybnkx\n",
      "Offset: 6\n",
      "\t spwwz xj ylxp td uzcoly\n",
      "Offset: 7\n",
      "\t tqxxa yk zmyq ue vadpmz\n",
      "Offset: 8\n",
      "\t uryyb zl anzr vf wbeqna\n",
      "Offset: 9\n",
      "\t vszzc am boas wg xcfrob\n",
      "Offset: 10\n",
      "\t wtaad bn cpbt xh ydgspc\n",
      "Offset: 11\n",
      "\t xubbe co dqcu yi zehtqd\n",
      "Offset: 12\n",
      "\t yvccf dp erdv zj afiure\n",
      "Offset: 13\n",
      "\t zwddg eq fsew ak bgjvsf\n",
      "Offset: 14\n",
      "\t axeeh fr gtfx bl chkwtg\n",
      "Offset: 15\n",
      "\t byffi gs hugy cm dilxuh\n",
      "Offset: 16\n",
      "\t czggj ht ivhz dn ejmyvi\n",
      "Offset: 17\n",
      "\t dahhk iu jwia eo fknzwj\n",
      "Offset: 18\n",
      "\t ebiil jv kxjb fp gloaxk\n",
      "Offset: 19\n",
      "\t fcjjm kw lykc gq hmpbyl\n",
      "Offset: 20\n",
      "\t gdkkn lx mzld hr inqczm\n",
      "Offset: 21\n",
      "\t hello my name is jordan\n",
      "Offset: 22\n",
      "\t ifmmp nz obnf jt kpsebo\n",
      "Offset: 23\n",
      "\t jgnnq oa pcog ku lqtfcp\n",
      "Offset: 24\n",
      "\t khoor pb qdph lv mrugdq\n",
      "Offset: 25\n",
      "\t lipps qc reqi mw nsvher\n"
     ]
    }
   ],
   "source": [
    "brute_message = 'mjqqt rd sfrj nx otwifs'\n",
    "for i in range(1, 26):\n",
    "    print(\"Offset: {}\".format(i))\n",
    "    print(\"\\t {}\".format(encode(brute_message, i)))"
   ]
  },
  {
   "cell_type": "markdown",
   "id": "564fd8e3",
   "metadata": {},
   "source": [
    "# The Vigenère Cipher"
   ]
  },
  {
   "cell_type": "markdown",
   "id": "c18030b3",
   "metadata": {},
   "source": [
    "This cipher is more complex then the caesar cipher. this taks a phrase as well as a key word. The key word is repeated to the length of the phrase and each letter in the phrase is then shifted by the number value of the letter in the keyword assigned to the letter in the phrase. "
   ]
  },
  {
   "cell_type": "code",
   "execution_count": 28,
   "id": "3ca2c20a",
   "metadata": {},
   "outputs": [],
   "source": [
    "alphabet = \"abcdefghijklmnopqrstuvwxyz\""
   ]
  },
  {
   "cell_type": "code",
   "execution_count": 29,
   "id": "7c0e0357",
   "metadata": {},
   "outputs": [
    {
     "name": "stdout",
     "output_type": "stream",
     "text": [
      "What is your message? hello my name is Jordan\n",
      "What is your key? pokemon\n"
     ]
    },
    {
     "data": {
      "text/plain": [
       "'wsvpa al cowi ug Jbgrkr'"
      ]
     },
     "execution_count": 29,
     "metadata": {},
     "output_type": "execute_result"
    }
   ],
   "source": [
    "def vigdecode():\n",
    "    message = input(\"What is your message? \" )\n",
    "    keyword = input(\"What is your key? \" )\n",
    "    keyword_phrase = ''\n",
    "    keyword_index = 0\n",
    "    \n",
    "    for i in message:\n",
    "        if keyword_index >= len(keyword):\n",
    "            keyword_index = 0\n",
    "        if i in alphabet:\n",
    "            keyword_phrase += keyword[keyword_index]\n",
    "            keyword_index += 1\n",
    "        else:\n",
    "            keyword_phrase += i\n",
    "            \n",
    "    decode_message = ''\n",
    "    \n",
    "    for x in range(len(message)):\n",
    "        if message[x] in alphabet:\n",
    "            old_char_index = alphabet.find(message[x])\n",
    "            offset_index = alphabet.find(keyword_phrase[x])\n",
    "            new_char = alphabet[(old_char_index + offset_index) % 26]\n",
    "            decode_message += new_char\n",
    "        else:\n",
    "            decode_message += message[x]\n",
    "        \n",
    "    return decode_message\n",
    "\n",
    "vigdecode()"
   ]
  },
  {
   "cell_type": "code",
   "execution_count": 30,
   "id": "add979c4",
   "metadata": {},
   "outputs": [
    {
     "name": "stdout",
     "output_type": "stream",
     "text": [
      "What is your message? wsvpa al cowi ug Jbgrkr\n",
      "What is your key? pokemon\n"
     ]
    },
    {
     "data": {
      "text/plain": [
       "'hello my name is Jordan'"
      ]
     },
     "execution_count": 30,
     "metadata": {},
     "output_type": "execute_result"
    }
   ],
   "source": [
    "def vigencode():\n",
    "    message = input(\"What is your message? \" )\n",
    "    keyword = input(\"What is your key? \" )\n",
    "    keyword_phrase = ''\n",
    "    keyword_index = 0\n",
    "    \n",
    "    for i in message:\n",
    "        if keyword_index >= len(keyword):\n",
    "            keyword_index = 0\n",
    "        if i in alphabet:\n",
    "            keyword_phrase += keyword[keyword_index]\n",
    "            keyword_index += 1\n",
    "        else:\n",
    "            keyword_phrase += i\n",
    "            \n",
    "    encode_message = ''\n",
    "    \n",
    "    for x in range(len(message)):\n",
    "        if message[x] in alphabet:\n",
    "            old_char_index = alphabet.find(message[x])\n",
    "            offset_index = alphabet.find(keyword_phrase[x])\n",
    "            new_char = alphabet[(old_char_index - offset_index) % 26]\n",
    "            encode_message += new_char\n",
    "        else:\n",
    "            encode_message += message[x]\n",
    "        \n",
    "    return encode_message\n",
    "\n",
    "vigencode()"
   ]
  }
 ],
 "metadata": {
  "kernelspec": {
   "display_name": "Python 3 (ipykernel)",
   "language": "python",
   "name": "python3"
  },
  "language_info": {
   "codemirror_mode": {
    "name": "ipython",
    "version": 3
   },
   "file_extension": ".py",
   "mimetype": "text/x-python",
   "name": "python",
   "nbconvert_exporter": "python",
   "pygments_lexer": "ipython3",
   "version": "3.11.5"
  }
 },
 "nbformat": 4,
 "nbformat_minor": 5
}
